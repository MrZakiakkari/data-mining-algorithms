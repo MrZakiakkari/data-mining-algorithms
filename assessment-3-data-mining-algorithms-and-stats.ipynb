{
 "cells": [
  {
   "cell_type": "markdown",
   "metadata": {},
   "source": [
    "Assessment 3 Data Mining Algorithms\n",
    "\n",
    "Where appropriate add two cells below the question.  One a code cell to hold any code you used, and the second a markdown cell to hold the explanation.  \n",
    "You are to submit your notebook file, which should be labelled yourname_assign3\n",
    "Note the questions are allocated different weightings, these will be scaled to 100%."
   ]
  },
  {
   "cell_type": "code",
   "execution_count": 1,
   "metadata": {
    "ExecuteTime": {
     "end_time": "2022-05-16T20:05:15.902140Z",
     "start_time": "2022-05-16T20:05:14.723751Z"
    }
   },
   "outputs": [],
   "source": [
    "import numpy as np\n",
    "import pandas as pd  # To read data\n",
    "from sklearn.linear_model import LinearRegression\n",
    "import seaborn as sns #To visualise\n",
    "from sklearn.model_selection import train_test_split\n",
    "from sklearn.metrics import mean_squared_error\n",
    "from sklearn.model_selection import cross_val_score"
   ]
  },
  {
   "cell_type": "code",
   "execution_count": 2,
   "metadata": {
    "ExecuteTime": {
     "end_time": "2022-05-16T20:05:17.672832Z",
     "start_time": "2022-05-16T20:05:17.593045Z"
    }
   },
   "outputs": [
    {
     "data": {
      "text/plain": [
       "Index(['carat', 'cut', 'color', 'clarity', 'depth', 'table', 'price', 'x', 'y',\n",
       "       'z'],\n",
       "      dtype='object')"
      ]
     },
     "execution_count": 2,
     "metadata": {},
     "output_type": "execute_result"
    }
   ],
   "source": [
    "diamonds = sns. load_dataset (\"diamonds\") \n",
    "\n",
    "diamonds.columns"
   ]
  },
  {
   "cell_type": "markdown",
   "metadata": {},
   "source": [
    "### Diamonds metadata\n",
    "#### price \n",
    "price in US dollars (\\$326--\\$18,823)<br>\n",
    "\n",
    "#### carat \n",
    "weight of the diamond (0.2--5.01)<br>\n",
    "\n",
    "#### cut \n",
    "quality of the cut (Fair, Good, Very Good, Premium, Ideal)<br>\n",
    "\n",
    "#### color \n",
    "diamond colour, from J (worst) to D (best)<br>\n",
    "\n",
    "#### clarity \n",
    "a measurement of how clear the diamond is (I1 (worst), SI2, SI1, VS2, VS1, VVS2, VVS1, IF (best))<br>\n",
    "\n",
    "#### x \n",
    "length in mm (0--10.74)<br>\n",
    "\n",
    "#### y \n",
    "width in mm (0--58.9)<br>\n",
    "\n",
    "#### z \n",
    "depth in mm (0--31.8)<br>\n",
    "\n",
    "#### depth \n",
    "total depth percentage = z / mean(x, y) = 2 * z / (x + y) (43--79)<br>\n",
    "\n",
    "#### table \n",
    "width of top of diamond relative to widest point (43--95)<br>"
   ]
  },
  {
   "cell_type": "markdown",
   "metadata": {},
   "source": [
    "#### 1. In the diamonds data set identify quantitative variables that have  linear relationships\n",
    "####  <div style=\"text-align: right\"> (5 marks) </div><br>"
   ]
  },
  {
   "cell_type": "code",
   "execution_count": null,
   "metadata": {},
   "outputs": [],
   "source": [
    "# put the code you used in here\n",
    "\n"
   ]
  },
  {
   "cell_type": "markdown",
   "metadata": {},
   "source": [
    "#answer your question and give explanation in here\n",
    "\n"
   ]
  },
  {
   "cell_type": "markdown",
   "metadata": {},
   "source": [
    "#### 2 Create a linear regression model predicting the price of a diamond using <b><u>ONE independent variable</b></u>.<br>\n",
    "#### <div style=\"text-align: right\"> (15 marks) </div><br>\n",
    "#### Test the different <i>quantitative</i> columns in order to identify which independent variable has the most predictive power for price.<br>\n",
    "#### In a markdown cell, provide justification as to why you chose the variable<br>\n",
    "Remember to use a reasonable split on the data to create test and train subsets "
   ]
  },
  {
   "cell_type": "code",
   "execution_count": null,
   "metadata": {},
   "outputs": [],
   "source": []
  },
  {
   "cell_type": "code",
   "execution_count": null,
   "metadata": {},
   "outputs": [],
   "source": []
  },
  {
   "cell_type": "markdown",
   "metadata": {},
   "source": []
  },
  {
   "cell_type": "code",
   "execution_count": null,
   "metadata": {},
   "outputs": [],
   "source": []
  },
  {
   "cell_type": "markdown",
   "metadata": {},
   "source": [
    "#### 3 Create a linear regression model predicting the price of a diamond using <b><u>MULTIPLE independent variables</b></u>.\n",
    "#### <div style=\"text-align: right\"> (15 marks) </div><br>\n"
   ]
  },
  {
   "cell_type": "markdown",
   "metadata": {},
   "source": [
    "## Some theory<br>\n",
    "#### Create a markdown cell under each of the following quesions, and put in your answer in there.\n"
   ]
  },
  {
   "cell_type": "markdown",
   "metadata": {},
   "source": [
    "4. What are dummy variables, what is the Dummy Variable Trap and how can we overcome it?<div style=\"text-align: right\"> (5 marks) </div>"
   ]
  },
  {
   "cell_type": "markdown",
   "metadata": {},
   "source": [
    "put answer in here..."
   ]
  },
  {
   "cell_type": "markdown",
   "metadata": {},
   "source": [
    "5. With regard to a linear regression model explain the meaning and importance of : <br>\n",
    "R^2\n",
    "####  <div style=\"text-align: right\"> (5 marks) </div><br>\n",
    "The coefficient (weight) associated with an independent variable\n",
    "####  <div style=\"text-align: right\"> (5 marks) </div><br>\n",
    "The Intercept\n",
    "####  <div style=\"text-align: right\"> (5 marks) </div><br>\n",
    "root mean squared error\n",
    "####  <div style=\"text-align: right\"> (5 marks) </div><br>\n"
   ]
  },
  {
   "cell_type": "markdown",
   "metadata": {},
   "source": [
    "6. The mean life of a battery is 50 hours with a standard deviation of 6 hours. The mean life of batteries follow a normal distribution.  The manufacturer advertises that they will replace all batteries that last less than 38 hours. If 100,000 batteries were produced, how many would they expect to replace?  In your answer explain your workings \n",
    "####  <div style=\"text-align: right\"> (5 marks) </div><br><br>"
   ]
  },
  {
   "cell_type": "markdown",
   "metadata": {},
   "source": [
    "7. A quality contorl process uses a grading scale to grade the quality of the batteries.  1000 batteries are produced. It is assumed that the scores are normally distributed with a mean score of 75 and a standard deviation of 15\n",
    "a)\tHow many batteries will have scores between 45 and 75?\n",
    "b)  If 60 is the lowest passing score, how many batteries are expected to pass the quality control check?\n",
    "In your answer, explain your workings.\n",
    "####  <div style=\"text-align: right\"> (10 marks) </div><br><br>\n"
   ]
  },
  {
   "cell_type": "markdown",
   "metadata": {},
   "source": [
    "8. The length of time the batteries are on the supermarket shelf before being sold is a mean of 12 days and a standard deviation of 3 days.  It can be assumed that the number of days on the shelf follows a normal distribution.  Answer the following questions, explai your workings for each.<br>\n",
    "a)\tAbout what percent of the batteries remain on the shelf between 9 and 15 days?<br>\n",
    "b)\tAbout what percent of the batteries remain on the shelf last between 12 and 15 days?<br>\n",
    "c)\tAbout what percent of the batteries remain on the shelf last 6 days or less?<br>\n",
    "d)\tAbout what percent of the batteries remain on the shelf last 15 or more days?<br>\n",
    "####  <div style=\"text-align: right\"> (10 marks) </div><br>"
   ]
  },
  {
   "cell_type": "markdown",
   "metadata": {},
   "source": [
    "9. An online shopping store maintains the shopping history of users so that future predictions can be made about which products will appeal to which type of customer.  <br>\n",
    "The following baskets are noted. <br>\n",
    "\n",
    "            1 ABC\n",
    "            2 ABCD\n",
    "            3 BC\n",
    "            4 ABD\n",
    "            5 BC\n",
    "            6 BCD\n",
    "            7 BD\n",
    "            8 B\n",
    "            9 A\n",
    "            10 AC\n",
    "            \n",
    "Calculate the Support and the Confidence, that a potential customer who adds A, and B to their shopping basket is likely to add product C.\n",
    "In your answer, explain your workings.\n",
    "####  <div style=\"text-align: right\"> (10 marks) </div><br>\n"
   ]
  },
  {
   "cell_type": "markdown",
   "metadata": {},
   "source": [
    "10. Which data algorithm would you choose for the following scenerios.  In your answer please explain your choice, as to why it is the most appropriate, in brief how the alogritm works, and what the expected outcomes would be. <br>\n",
    "(a) the battery company you work for is considering opening a new manufacturing plant in Europe, and has come down to the two last choices - Ireland or Poland.  You have data such as the utility costs, employment rates, mean salary for the location, and grants avaiable for the Government, such as the IDA.  Which algorithm would you use to help you choose? <br>\n",
    "(b) the software company you work for monitors users online time, access to the SaaS, number of purchases, length of time online, the number of sessions, length of session etc.  They are interested in predicting which users are likely to be retained and which are likely to churn.  What algorithm would help provide an insight to this problem? <br>\n",
    "####  <div style=\"text-align: right\"> (20 marks) </div><br>\n",
    "\n"
   ]
  },
  {
   "cell_type": "code",
   "execution_count": null,
   "metadata": {},
   "outputs": [],
   "source": []
  },
  {
   "cell_type": "code",
   "execution_count": null,
   "metadata": {},
   "outputs": [],
   "source": []
  }
 ],
 "metadata": {
  "kernelspec": {
   "display_name": "Python 3 (ipykernel)",
   "language": "python",
   "name": "python3"
  },
  "language_info": {
   "codemirror_mode": {
    "name": "ipython",
    "version": 3
   },
   "file_extension": ".py",
   "mimetype": "text/x-python",
   "name": "python",
   "nbconvert_exporter": "python",
   "pygments_lexer": "ipython3",
   "version": "3.9.7"
  },
  "toc": {
   "base_numbering": 1,
   "nav_menu": {},
   "number_sections": true,
   "sideBar": true,
   "skip_h1_title": false,
   "title_cell": "Table of Contents",
   "title_sidebar": "Contents",
   "toc_cell": false,
   "toc_position": {},
   "toc_section_display": true,
   "toc_window_display": false
  }
 },
 "nbformat": 4,
 "nbformat_minor": 4
}
