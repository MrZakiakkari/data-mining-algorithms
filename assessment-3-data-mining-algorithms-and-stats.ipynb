{
 "cells": [
  {
   "cell_type": "markdown",
   "metadata": {
    "ExecuteTime": {
     "end_time": "2022-05-16T20:53:15.460624Z",
     "start_time": "2022-05-16T20:53:15.450650Z"
    }
   },
   "source": [
    "<!--\n",
    "import data_analytics.github as github\n",
    "print(github.create_jupyter_notebook_header(\"mrzakiakkari\", \"data-mining-algorithms\", \"assessment-3-data-mining-algorithms-and-stats.ipynb\", \"master\"))\n",
    "-->\n",
    "<table style=\"margin: auto;\"><tr><td><a href=\"https://mybinder.org/v2/gh/mrzakiakkari/data-mining-algorithms/master?filepath=assessment-3-data-mining-algorithms-and-stats.ipynb\" target=\"_parent\"><img src=\"https://mybinder.org/badge_logo.svg\" alt=\"Open In Binder\"/></a></td><td>online editors</td><td><a href=\"https://colab.research.google.com/github/mrzakiakkari/data-mining-algorithms/blob/master/assessment-3-data-mining-algorithms-and-stats.ipynb\" target=\"_parent\"><img src=\"https://colab.research.google.com/assets/colab-badge.svg\" alt=\"Open In Colab\"/></a></td></tr></table>"
   ]
  },
  {
   "cell_type": "markdown",
   "metadata": {},
   "source": [
    "# Assessment 3 Data Mining Algorithms\n",
    "\n",
    "Where appropriate add two cells below the question.  One a code cell to hold any code you used, and the second a markdown cell to hold the explanation.  \n",
    "You are to submit your notebook file, which should be labelled yourname_assign3\n",
    "Note the questions are allocated different weightings, these will be scaled to 100%."
   ]
  },
  {
   "cell_type": "code",
   "execution_count": 1,
   "metadata": {
    "ExecuteTime": {
     "end_time": "2022-05-20T21:43:46.957599Z",
     "start_time": "2022-05-20T21:43:45.530919Z"
    }
   },
   "outputs": [],
   "source": [
    "from pandas import DataFrame\n",
    "from statistics import NormalDist\n",
    "import seaborn\n",
    "import numpy as np\n",
    "import pandas as pd  # To read data\n",
    "from sklearn.linear_model import LinearRegression\n",
    "import seaborn as sns  #To visualise\n",
    "from data_analytics.graphs import display_correlation_matrix_pyramid_heatmap\n",
    "from sklearn.model_selection import train_test_split\n",
    "from sklearn.metrics import mean_squared_error\n",
    "from sklearn.model_selection import cross_val_score"
   ]
  },
  {
   "cell_type": "code",
   "execution_count": 2,
   "metadata": {
    "ExecuteTime": {
     "end_time": "2022-05-20T21:43:47.035394Z",
     "start_time": "2022-05-20T21:43:46.959597Z"
    }
   },
   "outputs": [
    {
     "data": {
      "text/plain": [
       "Index(['carat', 'cut', 'color', 'clarity', 'depth', 'table', 'price', 'x', 'y',\n",
       "       'z'],\n",
       "      dtype='object')"
      ]
     },
     "execution_count": 2,
     "metadata": {},
     "output_type": "execute_result"
    }
   ],
   "source": [
    "diamonds_dataframe: DataFrame = seaborn.load_dataset(\"diamonds\")\n",
    "diamonds_dataframe.columns"
   ]
  },
  {
   "cell_type": "markdown",
   "metadata": {},
   "source": [
    "### Diamonds meta data\n",
    "#### price \n",
    "price in US dollars (\\$326--\\$18,823)<br>\n",
    "\n",
    "#### carat \n",
    "weight of the diamond (0.2--5.01)<br>\n",
    "\n",
    "#### cut \n",
    "quality of the cut (Fair, Good, Very Good, Premium, Ideal)<br>\n",
    "\n",
    "#### color \n",
    "diamond colour, from J (worst) to D (best)<br>\n",
    "\n",
    "#### clarity \n",
    "a measurement of how clear the diamond is (I1 (worst), SI2, SI1, VS2, VS1, VVS2, VVS1, IF (best))<br>\n",
    "\n",
    "#### x \n",
    "length in mm (0--10.74)<br>\n",
    "\n",
    "#### y \n",
    "width in mm (0--58.9)<br>\n",
    "\n",
    "#### z \n",
    "depth in mm (0--31.8)<br>\n",
    "\n",
    "#### depth \n",
    "total depth percentage = z / mean(x, y) = 2 * z / (x + y) (43--79)<br>\n",
    "\n",
    "#### table \n",
    "width of top of diamond relative to widest point (43--95)<br>"
   ]
  },
  {
   "cell_type": "markdown",
   "metadata": {},
   "source": [
    "**Q1.** In the diamonds data set identify quantitative variables that have  linear relationships\n",
    "<div style=\"text-align: right\"> (5 marks) </div>"
   ]
  },
  {
   "cell_type": "markdown",
   "metadata": {},
   "source": [
    "Exploratory Data Analysis"
   ]
  },
  {
   "cell_type": "code",
   "execution_count": 3,
   "metadata": {
    "ExecuteTime": {
     "end_time": "2022-05-20T21:43:47.067309Z",
     "start_time": "2022-05-20T21:43:47.037388Z"
    }
   },
   "outputs": [
    {
     "data": {
      "text/html": [
       "<div>\n",
       "<style scoped>\n",
       "    .dataframe tbody tr th:only-of-type {\n",
       "        vertical-align: middle;\n",
       "    }\n",
       "\n",
       "    .dataframe tbody tr th {\n",
       "        vertical-align: top;\n",
       "    }\n",
       "\n",
       "    .dataframe thead th {\n",
       "        text-align: right;\n",
       "    }\n",
       "</style>\n",
       "<table border=\"1\" class=\"dataframe\">\n",
       "  <thead>\n",
       "    <tr style=\"text-align: right;\">\n",
       "      <th></th>\n",
       "      <th>carat</th>\n",
       "      <th>cut</th>\n",
       "      <th>color</th>\n",
       "      <th>clarity</th>\n",
       "      <th>depth</th>\n",
       "      <th>table</th>\n",
       "      <th>price</th>\n",
       "      <th>x</th>\n",
       "      <th>y</th>\n",
       "      <th>z</th>\n",
       "    </tr>\n",
       "  </thead>\n",
       "  <tbody>\n",
       "    <tr>\n",
       "      <th>0</th>\n",
       "      <td>0.23</td>\n",
       "      <td>Ideal</td>\n",
       "      <td>E</td>\n",
       "      <td>SI2</td>\n",
       "      <td>61.5</td>\n",
       "      <td>55.0</td>\n",
       "      <td>326</td>\n",
       "      <td>3.95</td>\n",
       "      <td>3.98</td>\n",
       "      <td>2.43</td>\n",
       "    </tr>\n",
       "    <tr>\n",
       "      <th>1</th>\n",
       "      <td>0.21</td>\n",
       "      <td>Premium</td>\n",
       "      <td>E</td>\n",
       "      <td>SI1</td>\n",
       "      <td>59.8</td>\n",
       "      <td>61.0</td>\n",
       "      <td>326</td>\n",
       "      <td>3.89</td>\n",
       "      <td>3.84</td>\n",
       "      <td>2.31</td>\n",
       "    </tr>\n",
       "    <tr>\n",
       "      <th>2</th>\n",
       "      <td>0.23</td>\n",
       "      <td>Good</td>\n",
       "      <td>E</td>\n",
       "      <td>VS1</td>\n",
       "      <td>56.9</td>\n",
       "      <td>65.0</td>\n",
       "      <td>327</td>\n",
       "      <td>4.05</td>\n",
       "      <td>4.07</td>\n",
       "      <td>2.31</td>\n",
       "    </tr>\n",
       "    <tr>\n",
       "      <th>3</th>\n",
       "      <td>0.29</td>\n",
       "      <td>Premium</td>\n",
       "      <td>I</td>\n",
       "      <td>VS2</td>\n",
       "      <td>62.4</td>\n",
       "      <td>58.0</td>\n",
       "      <td>334</td>\n",
       "      <td>4.20</td>\n",
       "      <td>4.23</td>\n",
       "      <td>2.63</td>\n",
       "    </tr>\n",
       "    <tr>\n",
       "      <th>4</th>\n",
       "      <td>0.31</td>\n",
       "      <td>Good</td>\n",
       "      <td>J</td>\n",
       "      <td>SI2</td>\n",
       "      <td>63.3</td>\n",
       "      <td>58.0</td>\n",
       "      <td>335</td>\n",
       "      <td>4.34</td>\n",
       "      <td>4.35</td>\n",
       "      <td>2.75</td>\n",
       "    </tr>\n",
       "  </tbody>\n",
       "</table>\n",
       "</div>"
      ],
      "text/plain": [
       "   carat      cut color clarity  depth  table  price     x     y     z\n",
       "0   0.23    Ideal     E     SI2   61.5   55.0    326  3.95  3.98  2.43\n",
       "1   0.21  Premium     E     SI1   59.8   61.0    326  3.89  3.84  2.31\n",
       "2   0.23     Good     E     VS1   56.9   65.0    327  4.05  4.07  2.31\n",
       "3   0.29  Premium     I     VS2   62.4   58.0    334  4.20  4.23  2.63\n",
       "4   0.31     Good     J     SI2   63.3   58.0    335  4.34  4.35  2.75"
      ]
     },
     "execution_count": 3,
     "metadata": {},
     "output_type": "execute_result"
    }
   ],
   "source": [
    "diamonds_dataframe.head()"
   ]
  },
  {
   "cell_type": "code",
   "execution_count": 4,
   "metadata": {
    "ExecuteTime": {
     "end_time": "2022-05-20T21:43:47.083268Z",
     "start_time": "2022-05-20T21:43:47.069304Z"
    }
   },
   "outputs": [
    {
     "data": {
      "text/plain": [
       "(53940, 10)"
      ]
     },
     "execution_count": 4,
     "metadata": {},
     "output_type": "execute_result"
    }
   ],
   "source": [
    "diamonds_dataframe.shape"
   ]
  },
  {
   "cell_type": "code",
   "execution_count": 5,
   "metadata": {
    "ExecuteTime": {
     "end_time": "2022-05-20T21:43:47.147130Z",
     "start_time": "2022-05-20T21:43:47.085262Z"
    }
   },
   "outputs": [
    {
     "data": {
      "text/html": [
       "<div>\n",
       "<style scoped>\n",
       "    .dataframe tbody tr th:only-of-type {\n",
       "        vertical-align: middle;\n",
       "    }\n",
       "\n",
       "    .dataframe tbody tr th {\n",
       "        vertical-align: top;\n",
       "    }\n",
       "\n",
       "    .dataframe thead th {\n",
       "        text-align: right;\n",
       "    }\n",
       "</style>\n",
       "<table border=\"1\" class=\"dataframe\">\n",
       "  <thead>\n",
       "    <tr style=\"text-align: right;\">\n",
       "      <th></th>\n",
       "      <th>carat</th>\n",
       "      <th>depth</th>\n",
       "      <th>table</th>\n",
       "      <th>price</th>\n",
       "      <th>x</th>\n",
       "      <th>y</th>\n",
       "      <th>z</th>\n",
       "    </tr>\n",
       "  </thead>\n",
       "  <tbody>\n",
       "    <tr>\n",
       "      <th>count</th>\n",
       "      <td>53940.000000</td>\n",
       "      <td>53940.000000</td>\n",
       "      <td>53940.000000</td>\n",
       "      <td>53940.000000</td>\n",
       "      <td>53940.000000</td>\n",
       "      <td>53940.000000</td>\n",
       "      <td>53940.000000</td>\n",
       "    </tr>\n",
       "    <tr>\n",
       "      <th>mean</th>\n",
       "      <td>0.797940</td>\n",
       "      <td>61.749405</td>\n",
       "      <td>57.457184</td>\n",
       "      <td>3932.799722</td>\n",
       "      <td>5.731157</td>\n",
       "      <td>5.734526</td>\n",
       "      <td>3.538734</td>\n",
       "    </tr>\n",
       "    <tr>\n",
       "      <th>std</th>\n",
       "      <td>0.474011</td>\n",
       "      <td>1.432621</td>\n",
       "      <td>2.234491</td>\n",
       "      <td>3989.439738</td>\n",
       "      <td>1.121761</td>\n",
       "      <td>1.142135</td>\n",
       "      <td>0.705699</td>\n",
       "    </tr>\n",
       "    <tr>\n",
       "      <th>min</th>\n",
       "      <td>0.200000</td>\n",
       "      <td>43.000000</td>\n",
       "      <td>43.000000</td>\n",
       "      <td>326.000000</td>\n",
       "      <td>0.000000</td>\n",
       "      <td>0.000000</td>\n",
       "      <td>0.000000</td>\n",
       "    </tr>\n",
       "    <tr>\n",
       "      <th>25%</th>\n",
       "      <td>0.400000</td>\n",
       "      <td>61.000000</td>\n",
       "      <td>56.000000</td>\n",
       "      <td>950.000000</td>\n",
       "      <td>4.710000</td>\n",
       "      <td>4.720000</td>\n",
       "      <td>2.910000</td>\n",
       "    </tr>\n",
       "    <tr>\n",
       "      <th>50%</th>\n",
       "      <td>0.700000</td>\n",
       "      <td>61.800000</td>\n",
       "      <td>57.000000</td>\n",
       "      <td>2401.000000</td>\n",
       "      <td>5.700000</td>\n",
       "      <td>5.710000</td>\n",
       "      <td>3.530000</td>\n",
       "    </tr>\n",
       "    <tr>\n",
       "      <th>75%</th>\n",
       "      <td>1.040000</td>\n",
       "      <td>62.500000</td>\n",
       "      <td>59.000000</td>\n",
       "      <td>5324.250000</td>\n",
       "      <td>6.540000</td>\n",
       "      <td>6.540000</td>\n",
       "      <td>4.040000</td>\n",
       "    </tr>\n",
       "    <tr>\n",
       "      <th>max</th>\n",
       "      <td>5.010000</td>\n",
       "      <td>79.000000</td>\n",
       "      <td>95.000000</td>\n",
       "      <td>18823.000000</td>\n",
       "      <td>10.740000</td>\n",
       "      <td>58.900000</td>\n",
       "      <td>31.800000</td>\n",
       "    </tr>\n",
       "  </tbody>\n",
       "</table>\n",
       "</div>"
      ],
      "text/plain": [
       "              carat         depth         table         price             x  \\\n",
       "count  53940.000000  53940.000000  53940.000000  53940.000000  53940.000000   \n",
       "mean       0.797940     61.749405     57.457184   3932.799722      5.731157   \n",
       "std        0.474011      1.432621      2.234491   3989.439738      1.121761   \n",
       "min        0.200000     43.000000     43.000000    326.000000      0.000000   \n",
       "25%        0.400000     61.000000     56.000000    950.000000      4.710000   \n",
       "50%        0.700000     61.800000     57.000000   2401.000000      5.700000   \n",
       "75%        1.040000     62.500000     59.000000   5324.250000      6.540000   \n",
       "max        5.010000     79.000000     95.000000  18823.000000     10.740000   \n",
       "\n",
       "                  y             z  \n",
       "count  53940.000000  53940.000000  \n",
       "mean       5.734526      3.538734  \n",
       "std        1.142135      0.705699  \n",
       "min        0.000000      0.000000  \n",
       "25%        4.720000      2.910000  \n",
       "50%        5.710000      3.530000  \n",
       "75%        6.540000      4.040000  \n",
       "max       58.900000     31.800000  "
      ]
     },
     "execution_count": 5,
     "metadata": {},
     "output_type": "execute_result"
    }
   ],
   "source": [
    "diamonds_dataframe.describe()"
   ]
  },
  {
   "cell_type": "markdown",
   "metadata": {},
   "source": [
    "**Points to notice:**\n",
    "\n",
    "Min value of \"x\", \"y\", \"z\" are zero this indicates that there are faulty values in data that represents dimensionless or 2-dimensional diamonds. So we need to filter out those as it clearly faulty data points."
   ]
  },
  {
   "cell_type": "code",
   "execution_count": 6,
   "metadata": {
    "ExecuteTime": {
     "end_time": "2022-05-20T21:43:47.163050Z",
     "start_time": "2022-05-20T21:43:47.148091Z"
    }
   },
   "outputs": [
    {
     "data": {
      "text/plain": [
       "(53920, 10)"
      ]
     },
     "execution_count": 6,
     "metadata": {},
     "output_type": "execute_result"
    }
   ],
   "source": [
    "invalid_diamonds_dataframe = diamonds_dataframe[(diamonds_dataframe[\"x\"]==0) |\n",
    "                   (diamonds_dataframe[\"y\"]==0) |\n",
    "                   (diamonds_dataframe[\"z\"]==0)]\n",
    "\n",
    "invalid_diamonds_dataframe.sample()\n",
    "\n",
    "diamonds_dataframe.drop(invalid_diamonds_dataframe.index, inplace=True)\n",
    "del invalid_diamonds_dataframe\n",
    "diamonds_dataframe.shape"
   ]
  },
  {
   "cell_type": "code",
   "execution_count": 7,
   "metadata": {
    "ExecuteTime": {
     "end_time": "2022-05-20T21:43:47.194965Z",
     "start_time": "2022-05-20T21:43:47.164047Z"
    }
   },
   "outputs": [],
   "source": [
    "correlation_dataframe = diamonds_dataframe[[\"carat\", \"depth\", \"table\", \"price\", \"x\", \"y\", \"z\"]].corr()"
   ]
  },
  {
   "cell_type": "code",
   "execution_count": 8,
   "metadata": {
    "ExecuteTime": {
     "end_time": "2022-05-20T21:43:47.460289Z",
     "start_time": "2022-05-20T21:43:47.195964Z"
    }
   },
   "outputs": [
    {
     "data": {
      "image/png": "[encoded data removed]",
      "text/plain": [
       "<Figure size 792x648 with 2 Axes>"
      ]
     },
     "metadata": {
      "needs_background": "light"
     },
     "output_type": "display_data"
    }
   ],
   "source": [
    "display_correlation_matrix_pyramid_heatmap(correlation_dataframe);"
   ]
  },
  {
   "cell_type": "markdown",
   "metadata": {
    "ExecuteTime": {
     "end_time": "2022-05-19T18:53:38.882196Z",
     "start_time": "2022-05-19T18:53:38.878207Z"
    }
   },
   "source": [
    "<p class=\"Caption\">Correlation Matrix Heat Map Pyramid</p>"
   ]
  },
  {
   "cell_type": "markdown",
   "metadata": {},
   "source": [
    "Consider correlation Threshold &GreaterEqual; 0.85.  "
   ]
  },
  {
   "cell_type": "code",
   "execution_count": 9,
   "metadata": {
    "ExecuteTime": {
     "end_time": "2022-05-20T21:43:47.476213Z",
     "start_time": "2022-05-20T21:43:47.463247Z"
    }
   },
   "outputs": [],
   "source": [
    "correlation_dataframe = correlation_dataframe.unstack().reset_index()\n",
    "correlation_dataframe = correlation_dataframe.rename(\n",
    "    columns={\n",
    "    \"level_0\": \"Varaible 1\",\n",
    "    \"level_1\": \"Varaible 2\",\n",
    "    0: \"Correlation\"\n",
    "})\n",
    "\n",
    "correlation_cutoff_value = .85\n",
    "\n",
    "correlation_dataframe = correlation_dataframe[(\n",
    "    correlation_dataframe['Correlation'] >= correlation_cutoff_value)]\n",
    "\n",
    "#HACK!\n",
    "correlation_dataframe = correlation_dataframe[(\n",
    "    correlation_dataframe['Correlation'] != 1)]\n",
    "#HACK!\n",
    "\n",
    "\n",
    "key = correlation_dataframe[['Varaible 1','Varaible 2']].apply(lambda x: tuple(sorted(x)), axis='columns')\n",
    "\n",
    "correlation_dataframe = correlation_dataframe.loc[~key.duplicated()]"
   ]
  },
  {
   "cell_type": "markdown",
   "metadata": {},
   "source": [
    "**quantitative variables that have  linear relationships**"
   ]
  },
  {
   "cell_type": "code",
   "execution_count": 10,
   "metadata": {
    "ExecuteTime": {
     "end_time": "2022-05-20T21:43:47.492235Z",
     "start_time": "2022-05-20T21:43:47.478230Z"
    }
   },
   "outputs": [
    {
     "data": {
      "text/html": [
       "<div>\n",
       "<style scoped>\n",
       "    .dataframe tbody tr th:only-of-type {\n",
       "        vertical-align: middle;\n",
       "    }\n",
       "\n",
       "    .dataframe tbody tr th {\n",
       "        vertical-align: top;\n",
       "    }\n",
       "\n",
       "    .dataframe thead th {\n",
       "        text-align: right;\n",
       "    }\n",
       "</style>\n",
       "<table border=\"1\" class=\"dataframe\">\n",
       "  <thead>\n",
       "    <tr style=\"text-align: right;\">\n",
       "      <th></th>\n",
       "      <th>Varaible 1</th>\n",
       "      <th>Varaible 2</th>\n",
       "      <th>Correlation</th>\n",
       "    </tr>\n",
       "  </thead>\n",
       "  <tbody>\n",
       "    <tr>\n",
       "      <th>3</th>\n",
       "      <td>carat</td>\n",
       "      <td>price</td>\n",
       "      <td>0.921592</td>\n",
       "    </tr>\n",
       "    <tr>\n",
       "      <th>4</th>\n",
       "      <td>carat</td>\n",
       "      <td>x</td>\n",
       "      <td>0.977779</td>\n",
       "    </tr>\n",
       "    <tr>\n",
       "      <th>5</th>\n",
       "      <td>carat</td>\n",
       "      <td>y</td>\n",
       "      <td>0.953991</td>\n",
       "    </tr>\n",
       "    <tr>\n",
       "      <th>6</th>\n",
       "      <td>carat</td>\n",
       "      <td>z</td>\n",
       "      <td>0.961048</td>\n",
       "    </tr>\n",
       "    <tr>\n",
       "      <th>25</th>\n",
       "      <td>price</td>\n",
       "      <td>x</td>\n",
       "      <td>0.887231</td>\n",
       "    </tr>\n",
       "    <tr>\n",
       "      <th>26</th>\n",
       "      <td>price</td>\n",
       "      <td>y</td>\n",
       "      <td>0.867864</td>\n",
       "    </tr>\n",
       "    <tr>\n",
       "      <th>27</th>\n",
       "      <td>price</td>\n",
       "      <td>z</td>\n",
       "      <td>0.868206</td>\n",
       "    </tr>\n",
       "    <tr>\n",
       "      <th>33</th>\n",
       "      <td>x</td>\n",
       "      <td>y</td>\n",
       "      <td>0.974918</td>\n",
       "    </tr>\n",
       "    <tr>\n",
       "      <th>34</th>\n",
       "      <td>x</td>\n",
       "      <td>z</td>\n",
       "      <td>0.975435</td>\n",
       "    </tr>\n",
       "    <tr>\n",
       "      <th>41</th>\n",
       "      <td>y</td>\n",
       "      <td>z</td>\n",
       "      <td>0.956744</td>\n",
       "    </tr>\n",
       "  </tbody>\n",
       "</table>\n",
       "</div>"
      ],
      "text/plain": [
       "   Varaible 1 Varaible 2  Correlation\n",
       "3       carat      price     0.921592\n",
       "4       carat          x     0.977779\n",
       "5       carat          y     0.953991\n",
       "6       carat          z     0.961048\n",
       "25      price          x     0.887231\n",
       "26      price          y     0.867864\n",
       "27      price          z     0.868206\n",
       "33          x          y     0.974918\n",
       "34          x          z     0.975435\n",
       "41          y          z     0.956744"
      ]
     },
     "execution_count": 10,
     "metadata": {},
     "output_type": "execute_result"
    }
   ],
   "source": [
    "correlation_dataframe"
   ]
  },
  {
   "cell_type": "markdown",
   "metadata": {},
   "source": [
    "**Q2.** Create a linear regression model predicting the price of a diamond using <b><u>ONE independent variable</u></b>.\n",
    "<div style=\"text-align: right\"> (15 marks) </div>\n",
    "\n",
    "Price correlates with x, y, z and caret"
   ]
  },
  {
   "cell_type": "code",
   "execution_count": 11,
   "metadata": {
    "ExecuteTime": {
     "end_time": "2022-05-20T21:43:47.508129Z",
     "start_time": "2022-05-20T21:43:47.493168Z"
    }
   },
   "outputs": [],
   "source": [
    "def run_linear_regression(dataframe: DataFrame, x_columns: list, y_column: list):\n",
    "    X = dataframe[x_columns]\n",
    "    y = dataframe[y_column]\n",
    "\n",
    "    X_train, X_test, y_train, y_test = train_test_split(X, y, test_size=0.2)\n",
    "\n",
    "    reg = LinearRegression()\n",
    "\n",
    "    reg.fit(X_train, y_train)\n",
    "\n",
    "    y_pred = reg.predict(X_test)\n",
    "\n",
    "    print(x_columns, \"=>\", y_column[0])\n",
    "\n",
    "    print(f\"score:      {reg.score(X, y):.4f}\")  #Return the coefficient of determination of the prediction.\n",
    "    print(\"coef_:      \", reg.coef_)  #Estimated coefficients for the linear regression problem.\n",
    "    print(\"intercept_: \", reg.intercept_)\n",
    "    rmse = np.sqrt(mean_squared_error(y_test, y_pred))\n",
    "    print(\"rmse:       \", rmse)\n",
    "    return reg"
   ]
  },
  {
   "cell_type": "code",
   "execution_count": 12,
   "metadata": {
    "ExecuteTime": {
     "end_time": "2022-05-20T21:43:47.570959Z",
     "start_time": "2022-05-20T21:43:47.509125Z"
    }
   },
   "outputs": [
    {
     "name": "stdout",
     "output_type": "stream",
     "text": [
      "['carat'] => price\n",
      "score:      0.8493\n",
      "coef_:       [[7766.69418047]]\n",
      "intercept_:  [-2259.7599076]\n",
      "rmse:        1530.8844596923043\n"
     ]
    },
    {
     "data": {
      "text/plain": [
       "LinearRegression()"
      ]
     },
     "execution_count": 12,
     "metadata": {},
     "output_type": "execute_result"
    }
   ],
   "source": [
    "run_linear_regression(diamonds_dataframe,[\"carat\"], [\"price\"])"
   ]
  },
  {
   "cell_type": "markdown",
   "metadata": {},
   "source": [
    "#### Test the different <i>quantitative</i> columns in order to identify which independent variable has the most predictive power for price.  \n",
    "In a markdown cell provide justification as to why you chose the variable  \n",
    "Remember to use a reasonable split on the data to create test and train subsets "
   ]
  },
  {
   "cell_type": "code",
   "execution_count": 13,
   "metadata": {
    "ExecuteTime": {
     "end_time": "2022-05-20T21:43:47.664708Z",
     "start_time": "2022-05-20T21:43:47.571957Z"
    }
   },
   "outputs": [
    {
     "name": "stdout",
     "output_type": "stream",
     "text": [
      "['carat'] => price\n",
      "score:      0.8493\n",
      "coef_:       [[7771.04097573]]\n",
      "intercept_:  [-2263.87603194]\n",
      "rmse:        1504.2192077901575\n",
      "['x'] => price\n",
      "score:      0.7872\n",
      "coef_:       [[3166.26366492]]\n",
      "intercept_:  [-14219.33563649]\n",
      "rmse:        1830.3703101792842\n",
      "['y'] => price\n",
      "score:      0.7531\n",
      "coef_:       [[2999.30203793]]\n",
      "intercept_:  [-13275.4955385]\n",
      "rmse:        1860.778325393268\n",
      "['z'] => price\n",
      "score:      0.7537\n",
      "coef_:       [[4881.09348794]]\n",
      "intercept_:  [-13352.79636449]\n",
      "rmse:        1874.755439017094\n"
     ]
    },
    {
     "data": {
      "text/plain": [
       "LinearRegression()"
      ]
     },
     "execution_count": 13,
     "metadata": {},
     "output_type": "execute_result"
    }
   ],
   "source": [
    "run_linear_regression(diamonds_dataframe,[\"carat\"], [\"price\"])\n",
    "run_linear_regression(diamonds_dataframe,[\"x\"], [\"price\"])\n",
    "run_linear_regression(diamonds_dataframe,[\"y\"], [\"price\"])\n",
    "run_linear_regression(diamonds_dataframe,[\"z\"], [\"price\"])"
   ]
  },
  {
   "cell_type": "markdown",
   "metadata": {},
   "source": [
    "The carat has the most predictive power based on the highest predictive score of 0.8493."
   ]
  },
  {
   "cell_type": "markdown",
   "metadata": {},
   "source": [
    "**Q3.** Create a linear regression model predicting the price of a diamond using <b><u>MULTIPLE independent variables</u></b>.\n",
    "<div style=\"text-align: right\"> (15 marks) </div>"
   ]
  },
  {
   "cell_type": "code",
   "execution_count": 14,
   "metadata": {
    "ExecuteTime": {
     "end_time": "2022-05-20T21:43:47.712580Z",
     "start_time": "2022-05-20T21:43:47.666705Z"
    }
   },
   "outputs": [
    {
     "name": "stdout",
     "output_type": "stream",
     "text": [
      "['carat', 'x', 'y', 'z'] => price\n",
      "score:      0.8547\n",
      "coef_:       [[10535.76878626  -944.97932626   156.1245366   -676.74593464]]\n",
      "intercept_:  [2440.93147418]\n",
      "rmse:        1561.9935903374783\n"
     ]
    },
    {
     "data": {
      "text/plain": [
       "LinearRegression()"
      ]
     },
     "execution_count": 14,
     "metadata": {},
     "output_type": "execute_result"
    }
   ],
   "source": [
    "run_linear_regression(diamonds_dataframe,[\"carat\", \"x\", \"y\", \"z\"], [\"price\"])"
   ]
  },
  {
   "cell_type": "markdown",
   "metadata": {},
   "source": [
    "# Some theory\n",
    "Create a markdown cell under each of the following quesions, and put in your answer in there."
   ]
  },
  {
   "cell_type": "markdown",
   "metadata": {},
   "source": [
    "**Q4.**. What are dummy variables, what is the Dummy Variable Trap and how can we overcome it?<div style=\"text-align: right\"> (5 marks) </div>"
   ]
  },
  {
   "cell_type": "markdown",
   "metadata": {},
   "source": [
    "**Answer**  \n",
    "A dummy variable is a variable that takes values of 0 and 1, where the values indicate the presence or absence of something (e.g., a 0 may indicate a placebo and 1 may indicate a drug). The Dummy Variable trap is a scenario in which the independent variables are multicollinear - a scenario in which two or more variables are highly correlated; in simple terms one variable can be predicted from the others. To overcome the Dummy variable Trap, we drop one of the columns created when the categorical variables were converted to dummy variables by one-hot encoding. This can be done because the dummy variables include redundant information."
   ]
  },
  {
   "cell_type": "markdown",
   "metadata": {},
   "source": [
    "**Q5.** With regard to a linear regression model explain the meaning and importance of :  \n",
    "\n",
    "R^2: \n",
    "**Answer**:R-squared is a goodness-of-fit measure for linear regression models. This statistic indicates the percentage of the variance in the dependent variable that the independent variables explain collectively. R-squared measures the strength of the relationship between your model and the dependent variable on a convenient 0 – 100% scale.\n",
    "<div style=\"text-align: right\"> (5 marks) </div>  \n",
    "The coefficient (weight) associated with an independent variable:  \n",
    "\n",
    "**Answer** :The regular regression coefficients that you see in your statistical output describe the relationship between the independent variables and the dependent variable. The coefficient value represents the mean change of the dependent variable given a one-unit shift in an independent variable. Consequently, you might think you can use the absolute sizes of the coefficients to identify the most important variable. After all, a larger coefficient signifies a greater change in the mean of the independent variable.\n",
    "<div style=\"text-align: right\"> (5 marks) </div>  \n",
    "The Intercept:\n",
    "\n",
    "**Answer**:The intercept (often labeled as constant) is the point where the function crosses the y-axis. In some analysis, the regression model only becomes significant when we remove the intercept, and the regression line reduces to Y = bX + error.\n",
    "<div style=\"text-align: right\"> (5 marks) </div>  \n",
    "root mean squared error:  \n",
    "\n",
    "**Answer**:Root Mean Square Error (RMSE) is the standard deviation of the residuals (prediction errors). Residuals are a measure of how far from the regression line data points are; RMSE is a measure of how spread out these residuals are. In other words, it tells you how concentrated the data is around the line of best fit. Root mean square error is commonly used in climatology, forecasting, and regression analysis to verify experimental results.\n",
    "<div style=\"text-align: right\"> (5 marks) </div>"
   ]
  },
  {
   "cell_type": "markdown",
   "metadata": {},
   "source": [
    "**Q6.** The mean life of a battery is 50 hours with a standard deviation of 6 hours. The mean life of batteries follow a normal distribution.  The manufacturer advertises that they will replace all batteries that last less than 38 hours. If 100,000 batteries were produced, how many would they expect to replace?  In your answer explain your workings \n",
    "<div style=\"text-align: right\"> (5 marks) </div>"
   ]
  },
  {
   "cell_type": "markdown",
   "metadata": {},
   "source": [
    "$\n",
    "X \\sim \\operatorname{Normal}(\\mu = 50, \\sigma = 6) \\\\\n",
    "p = P(X < 38) = P\\left(\\frac{X - \\mu}{\\sigma} < \\frac{38 - 50}{6} \\right) = P(Z < -2) \\approx 0.02275,\\\\\n",
    "$"
   ]
  },
  {
   "cell_type": "code",
   "execution_count": 15,
   "metadata": {
    "ExecuteTime": {
     "end_time": "2022-05-20T21:43:47.727541Z",
     "start_time": "2022-05-20T21:43:47.714577Z"
    }
   },
   "outputs": [
    {
     "name": "stdout",
     "output_type": "stream",
     "text": [
      "P(X < 38) = 0.02275\n",
      "Answer:2275\n"
     ]
    }
   ],
   "source": [
    "from statistics import NormalDist\n",
    "\n",
    "x = 38\n",
    "p = NormalDist(mu=50, sigma=6).cdf(x)\n",
    "print(f\"P(X < {x}) = {p:.4}\")\n",
    "\n",
    "n=100_000\n",
    "print(f\"Answer:{(p*n):.0f}\")"
   ]
  },
  {
   "cell_type": "markdown",
   "metadata": {},
   "source": [
    "where Z∼Normal(0,1) is a standard normal random variable. This means any single battery has only about a 2.275% chance of not lasting more than 38 hours."
   ]
  },
  {
   "cell_type": "markdown",
   "metadata": {},
   "source": [
    "**Q 7.** A quality control process uses a grading scale to grade the quality of the batteries.  1000 batteries are produced. It is assumed that the scores are normally distributed with a mean score of 75 and a standard deviation of 15.\n",
    "In your answer, explain your workings."
   ]
  },
  {
   "cell_type": "markdown",
   "metadata": {},
   "source": [
    "$\n",
    "X \\sim \\operatorname{Normal}(\\mu = 75, \\sigma = 15) \\\\\n",
    "$"
   ]
  },
  {
   "cell_type": "markdown",
   "metadata": {},
   "source": [
    "a)\tHow many batteries will have scores between 45 and 75?"
   ]
  },
  {
   "cell_type": "markdown",
   "metadata": {},
   "source": [
    "$\n",
    "p = P(X < 75) = P\\left(\\frac{X - \\mu}{\\sigma} < \\frac{75 - 75}{15} \\right) = P(Z < 0) \\approx 0.5,\\\\\n",
    "$\n",
    "\n",
    "$\n",
    "p = P(X < 45) = P\\left(\\frac{X - \\mu}{\\sigma} < \\frac{45 - 75}{15} \\right) = P(Z < -2) \\approx 0.02275,\\\\\n",
    "$\n"
   ]
  },
  {
   "cell_type": "code",
   "execution_count": 16,
   "metadata": {
    "ExecuteTime": {
     "end_time": "2022-05-20T21:43:47.743499Z",
     "start_time": "2022-05-20T21:43:47.729536Z"
    }
   },
   "outputs": [],
   "source": [
    "number_of_batteries = 1_000"
   ]
  },
  {
   "cell_type": "code",
   "execution_count": 17,
   "metadata": {
    "ExecuteTime": {
     "end_time": "2022-05-20T21:43:47.758458Z",
     "start_time": "2022-05-20T21:43:47.746491Z"
    }
   },
   "outputs": [
    {
     "name": "stdout",
     "output_type": "stream",
     "text": [
      "P(X < 75) = 0.5\n",
      "P(X < 45) = 0.02275\n",
      "P(45 < X < 75) = 0.4772\n",
      "Answer:477\n"
     ]
    }
   ],
   "source": [
    "x1 = 75\n",
    "p1 = NormalDist(mu=75, sigma=15).cdf(x1)\n",
    "print(f\"P(X < {x1}) = {p1:.4}\")\n",
    "x2 = 45\n",
    "p2 = NormalDist(mu=75, sigma=15).cdf(x2)\n",
    "print(f\"P(X < {x2}) = {p2:.4}\")\n",
    "p = p1 - p2\n",
    "print(f\"P({x2} < X < {x1}) = {p:.4}\")\n",
    "print(f\"Answer:{p * number_of_batteries:.0f}\")"
   ]
  },
  {
   "cell_type": "markdown",
   "metadata": {},
   "source": [
    "b)  If 60 is the lowest passing score, how many batteries are expected to pass the quality control check?"
   ]
  },
  {
   "cell_type": "markdown",
   "metadata": {},
   "source": [
    "$ P(x \\ge 60)= 1 - P(x<60) $"
   ]
  },
  {
   "cell_type": "markdown",
   "metadata": {},
   "source": [
    "$ P(X \\ge 60) = P\\left(\\frac{X - \\mu}{\\sigma} \\ge \\frac{60 - 75}{15} \\right) = P(Z \\ge -1) \\approx 0.84134 $"
   ]
  },
  {
   "cell_type": "code",
   "execution_count": 18,
   "metadata": {
    "ExecuteTime": {
     "end_time": "2022-05-20T21:43:47.774415Z",
     "start_time": "2022-05-20T21:43:47.760453Z"
    }
   },
   "outputs": [
    {
     "name": "stdout",
     "output_type": "stream",
     "text": [
      "P(X > 60) = 0.8413\n",
      "Answer:841\n"
     ]
    }
   ],
   "source": [
    "x = 60\n",
    "p = 1 - NormalDist(mu=75, sigma=15).cdf(x)\n",
    "print(f\"P(X > {x}) = {p:.4}\")\n",
    "print(f\"Answer:{p * number_of_batteries:.0f}\")"
   ]
  },
  {
   "cell_type": "markdown",
   "metadata": {},
   "source": [
    "<div style=\"text-align: right\"> (10 marks) </div>"
   ]
  },
  {
   "cell_type": "markdown",
   "metadata": {},
   "source": [
    "**Q8.** The length of time the batteries are on the supermarket shelf before being sold is a mean of 12 days and a standard deviation of 3 days.  It can be assumed that the number of days on the shelf follows a normal distribution.  Answer the following questions, explain your workings for each.<br>"
   ]
  },
  {
   "cell_type": "markdown",
   "metadata": {
    "ExecuteTime": {
     "end_time": "2022-05-19T17:35:20.439286Z",
     "start_time": "2022-05-19T17:35:20.407376Z"
    }
   },
   "source": [
    "$\n",
    "X \\sim \\operatorname{Normal}(\\mu = 12, \\sigma = 3) \\\\\n",
    "$"
   ]
  },
  {
   "cell_type": "markdown",
   "metadata": {
    "ExecuteTime": {
     "end_time": "2022-05-19T17:35:20.439286Z",
     "start_time": "2022-05-19T17:35:20.407376Z"
    }
   },
   "source": [
    "**(a)** About what percent of the batteries remain on the shelf between 9 and 15 days?<br>"
   ]
  },
  {
   "cell_type": "markdown",
   "metadata": {
    "ExecuteTime": {
     "end_time": "2022-05-19T17:35:20.439286Z",
     "start_time": "2022-05-19T17:35:20.407376Z"
    }
   },
   "source": [
    "$ P(9 < X < 15) =  P(X < 15) -  P(X < 9) $"
   ]
  },
  {
   "cell_type": "markdown",
   "metadata": {
    "ExecuteTime": {
     "end_time": "2022-05-19T17:35:20.439286Z",
     "start_time": "2022-05-19T17:35:20.407376Z"
    }
   },
   "source": [
    "$\n",
    "P(X < 15) = P\\left(\\frac{X - \\mu}{\\sigma} < \\frac{15 - 12}{3} \\right) = P(Z < 1) \\\\\n",
    "P(X < 9) = P\\left(\\frac{X - \\mu}{\\sigma} < \\frac{9 - 12}{3} \\right) = P(Z < -1) \\\\\n",
    "$"
   ]
  },
  {
   "cell_type": "code",
   "execution_count": 19,
   "metadata": {
    "ExecuteTime": {
     "end_time": "2022-05-20T21:43:47.790373Z",
     "start_time": "2022-05-20T21:43:47.777410Z"
    }
   },
   "outputs": [
    {
     "name": "stdout",
     "output_type": "stream",
     "text": [
      "P(X < 15) = 0.8413\n",
      "P(X < 9) = 0.1587\n",
      "P(9 < X < 15) = 0.6827\n",
      "Answer:68.27%\n"
     ]
    }
   ],
   "source": [
    "x1 = 15\n",
    "p1 = NormalDist(mu=12, sigma=3).cdf(x1)\n",
    "print(f\"P(X < {x1}) = {p1:.4}\")\n",
    "x2 = 9\n",
    "p2 = NormalDist(mu=12, sigma=3).cdf(x2)\n",
    "print(f\"P(X < {x2}) = {p2:.4}\")\n",
    "p = p1 - p2\n",
    "print(f\"P({x2} < X < {x1}) = {p:.4}\")\n",
    "print(f\"Answer:{p:.2%}\")"
   ]
  },
  {
   "cell_type": "markdown",
   "metadata": {
    "ExecuteTime": {
     "end_time": "2022-05-19T15:51:24.178403Z",
     "start_time": "2022-05-19T15:51:24.178403Z"
    }
   },
   "source": [
    "**(b)** About what percent of the batteries remain on the shelf last between 12 and 15 days?"
   ]
  },
  {
   "cell_type": "markdown",
   "metadata": {
    "ExecuteTime": {
     "end_time": "2022-05-19T15:51:24.178403Z",
     "start_time": "2022-05-19T15:51:24.178403Z"
    }
   },
   "source": [
    "$ P(12 < X < 15) =  P(X < 15) -  P(X < 12) $"
   ]
  },
  {
   "cell_type": "markdown",
   "metadata": {
    "ExecuteTime": {
     "end_time": "2022-05-19T15:51:24.178403Z",
     "start_time": "2022-05-19T15:51:24.178403Z"
    }
   },
   "source": [
    "$\n",
    "P(X < 15) = P\\left(\\frac{X - \\mu}{\\sigma} < \\frac{15 - 12}{3} \\right) = P(Z < 1) \\\\\n",
    "P(X < 12) = P\\left(\\frac{X - \\mu}{\\sigma} < \\frac{12 - 12}{3} \\right) = P(Z < 0) \\\\\n",
    "$"
   ]
  },
  {
   "cell_type": "code",
   "execution_count": 20,
   "metadata": {
    "ExecuteTime": {
     "end_time": "2022-05-20T21:43:47.806330Z",
     "start_time": "2022-05-20T21:43:47.792369Z"
    },
    "scrolled": true
   },
   "outputs": [
    {
     "name": "stdout",
     "output_type": "stream",
     "text": [
      "P(X < 15) = 0.8413\n",
      "P(X < 12) = 0.5\n",
      "P(12 < X < 15) = 0.3413\n",
      "Answer:34.13%\n"
     ]
    }
   ],
   "source": [
    "x1 = 15\n",
    "p1 = NormalDist(mu=12, sigma=3).cdf(x1)\n",
    "print(f\"P(X < {x1}) = {p1:.4}\")\n",
    "x2 = 12\n",
    "p2 = NormalDist(mu=12, sigma=3).cdf(x2)\n",
    "print(f\"P(X < {x2}) = {p2:.4}\")\n",
    "p = p1 - p2\n",
    "print(f\"P({x2} < X < {x1}) = {p:.4}\")\n",
    "print(f\"Answer:{p:.2%}\")"
   ]
  },
  {
   "cell_type": "markdown",
   "metadata": {
    "ExecuteTime": {
     "end_time": "2022-05-19T15:51:24.186370Z",
     "start_time": "2022-05-19T15:51:24.186370Z"
    }
   },
   "source": [
    "**(c)** About what percent of the batteries remain on the shelf last 6 days or less?"
   ]
  },
  {
   "cell_type": "markdown",
   "metadata": {
    "ExecuteTime": {
     "end_time": "2022-05-19T15:51:24.186370Z",
     "start_time": "2022-05-19T15:51:24.186370Z"
    }
   },
   "source": [
    "$\n",
    "p = P(X < 6) = P\\left(\\frac{X - \\mu}{\\sigma} > \\frac{6 - 12}{3} \\right) = P(Z > -2) \\\\\n",
    "$"
   ]
  },
  {
   "cell_type": "code",
   "execution_count": 21,
   "metadata": {
    "ExecuteTime": {
     "end_time": "2022-05-20T21:43:47.822291Z",
     "start_time": "2022-05-20T21:43:47.808325Z"
    }
   },
   "outputs": [
    {
     "name": "stdout",
     "output_type": "stream",
     "text": [
      "P(X < 6) = 0.02275\n",
      "Answer:2.28%\n"
     ]
    }
   ],
   "source": [
    "x = 6\n",
    "p = NormalDist(mu=12, sigma=3).cdf(x)\n",
    "print(f\"P(X < {x}) = {p:.4}\")\n",
    "print(f\"Answer:{p:.2%}\")"
   ]
  },
  {
   "cell_type": "markdown",
   "metadata": {
    "ExecuteTime": {
     "end_time": "2022-05-18T17:11:44.515685Z",
     "start_time": "2022-05-18T17:11:44.497734Z"
    }
   },
   "source": [
    "**(d)** About what percent of the batteries remain on the shelf last 15 or more days?"
   ]
  },
  {
   "cell_type": "markdown",
   "metadata": {
    "ExecuteTime": {
     "end_time": "2022-05-18T17:11:44.515685Z",
     "start_time": "2022-05-18T17:11:44.497734Z"
    }
   },
   "source": [
    "$ P(X \\ge 15) = 1 - P(X < 15) $"
   ]
  },
  {
   "cell_type": "markdown",
   "metadata": {
    "ExecuteTime": {
     "end_time": "2022-05-18T17:11:44.515685Z",
     "start_time": "2022-05-18T17:11:44.497734Z"
    }
   },
   "source": [
    "$\n",
    "P(X \\ge 15) = P\\left(\\frac{X - \\mu}{\\sigma} \\ge \\frac{15 - 12}{3} \\right) = P(Z \\ge 1)\n",
    "$"
   ]
  },
  {
   "cell_type": "code",
   "execution_count": 22,
   "metadata": {
    "ExecuteTime": {
     "end_time": "2022-05-20T21:43:47.837248Z",
     "start_time": "2022-05-20T21:43:47.825280Z"
    }
   },
   "outputs": [
    {
     "name": "stdout",
     "output_type": "stream",
     "text": [
      "P(X > 15) = 0.1587\n",
      "Answer:15.87%\n"
     ]
    }
   ],
   "source": [
    "x = 15\n",
    "p = 1 - NormalDist(mu=12, sigma=3).cdf(x)\n",
    "print(f\"P(X > {x}) = {p:.4}\")\n",
    "print(f\"Answer:{p:.2%}\")"
   ]
  },
  {
   "cell_type": "markdown",
   "metadata": {
    "ExecuteTime": {
     "end_time": "2022-05-19T18:06:49.652240Z",
     "start_time": "2022-05-19T18:06:49.633294Z"
    }
   },
   "source": [
    "<div style=\"text-align: right\"> (10 marks) </div>"
   ]
  },
  {
   "cell_type": "markdown",
   "metadata": {},
   "source": [
    "**Q 9.** An online shopping store maintains the shopping history of users so that future predictions can be made about which products will appeal to which type of customer.  <br>\n",
    "The following baskets are noted. <br>\n",
    "\n",
    "            1 ABC \n",
    "            2 ABCD\n",
    "            3 BC\n",
    "            4 ABD\n",
    "            5 BC\n",
    "            6 BCD\n",
    "            7 BD\n",
    "            8 B\n",
    "            9 A\n",
    "            10 AC\n",
    "            \n",
    "Calculate the Support and the Confidence, that a potential customer who adds A, and B to their shopping basket is likely to add product C.\n",
    "In your answer, explain your workings.\n",
    "<div style=\"text-align: right\"> (10 marks) </div>"
   ]
  },
  {
   "cell_type": "markdown",
   "metadata": {},
   "source": [
    "**Answer**  \n",
    "Transactions number: 10\n",
    "Rule:A&B&rArr;C\n",
    "\n",
    "Support =frq(X, Y)/N   \n",
    "\n",
    "Confidence = frq(X, Y)/frq(X)  \n",
    "\n",
    "frq of A&B is 3  \n",
    "frq of A&B&C is 2  \n",
    "Support =frq(A&B, C)/N = 2/10 = 0.2    \n",
    "Support =frq(A&B, C)/frq(A&B) = 2/3 = 0.67  "
   ]
  },
  {
   "cell_type": "markdown",
   "metadata": {},
   "source": [
    "**10.** Which data algorithm would you choose for the following scenerios.  In your answer please explain your choice, as to why it is the most appropriate, in brief how the alogritm works, and what the expected outcomes would be."
   ]
  },
  {
   "cell_type": "markdown",
   "metadata": {},
   "source": [
    "(a) the battery company you work for is considering opening a new manufacturing plant in Europe, and has come down to the two last choices - Ireland or Poland.  You have data such as the utility costs, employment rates, mean salary for the location, and grants available for the Government, such as the IDA.  Which algorithm would you use to help you choose?"
   ]
  },
  {
   "cell_type": "markdown",
   "metadata": {},
   "source": [
    "# <span style=\"color:red\">Finish</span>"
   ]
  },
  {
   "cell_type": "markdown",
   "metadata": {
    "ExecuteTime": {
     "end_time": "2022-05-21T19:09:34.865128Z",
     "start_time": "2022-05-21T19:09:34.849480Z"
    }
   },
   "source": [
    "**Answer:** Regression Analysis would be the suited algorithm for this. This is because the Regression Analysis helps determine different levels of customer satisfactions and how they affect customer loyalty and how service levels can be affected by for example the weather.\n",
    "Regression analysis tries to define the dependency between variables. It assumes a one-way causal effect from one variable to the response of another variable. Independent variables can be affected by each other but it does not mean that this dependency is both ways as is the case with correlation analysis. A regression analysis can show that one variable is dependent on another but not vice-versa\n",
    "By using the Regression Line it helps determine the most positive correlation line from the manufacturing plant of both Ireland and Poland and it is easy to interpret, can adopt any data situation and can use many variables to predict one.    \n"
   ]
  },
  {
   "cell_type": "markdown",
   "metadata": {},
   "source": [
    "(b) the software company you work for monitors users online time, access to the SaaS, number of purchases, length of time online, the number of sessions, length of session etc.  They are interested in predicting which users are likely to be retained and which are likely to churn.  What algorithm would help provide an insight to this problem?  "
   ]
  },
  {
   "cell_type": "markdown",
   "metadata": {},
   "source": [
    "# <span style=\"color:red\">Finish</span>"
   ]
  },
  {
   "cell_type": "markdown",
   "metadata": {},
   "source": [
    "**Answer:** Classification Analysis would be the suited approach for this. Classification Analysis is a systematic process for obtaining important and relevant information about data, and metadata - data about data. The classification analysis helps identifying to which of a set of categories different types of data belong. Classification analysis is closely linked to cluster analysis as the classification can be used to cluster data.\n",
    "Classification analyses a set of training data (i.e. a set of objects whose class label is known) and constructs a model for each class based on the features in the data.  \n",
    "such as if users are retained or not and another example to classify which user is likely to churn. Classification as a technique complements clustering. Clustering creates the buckets or boxes and classification puts new cases into them. It parallels the distinction between supervised and unsupervised learning in machine learning, which has to do with whether you actually have a label or a category membership for cases or not.\n"
   ]
  },
  {
   "cell_type": "markdown",
   "metadata": {},
   "source": [
    "<div style=\"text-align: right\"> (20 marks) </div><br>"
   ]
  }
 ],
 "metadata": {
  "kernelspec": {
   "display_name": "Python 3 (ipykernel)",
   "language": "python",
   "name": "python3"
  },
  "language_info": {
   "codemirror_mode": {
    "name": "ipython",
    "version": 3
   },
   "file_extension": ".py",
   "mimetype": "text/x-python",
   "name": "python",
   "nbconvert_exporter": "python",
   "pygments_lexer": "ipython3",
   "version": "3.9.7"
  },
  "toc": {
   "base_numbering": 1,
   "nav_menu": {},
   "number_sections": true,
   "sideBar": true,
   "skip_h1_title": false,
   "title_cell": "Table of Contents",
   "title_sidebar": "Contents",
   "toc_cell": false,
   "toc_position": {},
   "toc_section_display": true,
   "toc_window_display": true
  }
 },
 "nbformat": 4,
 "nbformat_minor": 4
}
